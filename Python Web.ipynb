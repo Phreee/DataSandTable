{
 "cells": [
  {
   "cell_type": "markdown",
   "id": "66c10025",
   "metadata": {},
   "source": [
    "# 在线沙盘\n",
    "用Python在局域网建立Sever，可供其他电脑访问。"
   ]
  },
  {
   "cell_type": "markdown",
   "id": "ab09db39",
   "metadata": {},
   "source": [
    "## 用户访问http://192.168.1.4:5000\n",
    "上传cvs文件，Python服务器收到后，把数据读取出来，做成网页返回给用户"
   ]
  },
  {
   "cell_type": "code",
   "execution_count": 12,
   "id": "1826b76b",
   "metadata": {
    "scrolled": true
   },
   "outputs": [
    {
     "name": "stdout",
     "output_type": "stream",
     "text": [
      " * Serving Flask app \"__main__\" (lazy loading)\n",
      " * Environment: production\n",
      "\u001b[31m   WARNING: This is a development server. Do not use it in a production deployment.\u001b[0m\n",
      "\u001b[2m   Use a production WSGI server instead.\u001b[0m\n",
      " * Debug mode: off\n"
     ]
    },
    {
     "name": "stderr",
     "output_type": "stream",
     "text": [
      " * Running on http://192.168.1.4:5000/ (Press CTRL+C to quit)\n",
      "192.168.1.4 - - [05/May/2023 23:34:39] \"GET / HTTP/1.1\" 200 -\n",
      "192.168.1.4 - - [05/May/2023 23:34:53] \"POST / HTTP/1.1\" 200 -\n"
     ]
    }
   ],
   "source": [
    "from flask import Flask, request, render_template\n",
    "import pandas as pd\n",
    "\n",
    "#app = Flask(__name__)\n",
    "app = Flask(__name__, template_folder='templates')\n",
    "\n",
    "@app.route(\"/\", methods=[\"GET\", \"POST\"])\n",
    "def upload_csv():\n",
    "    if request.method == \"POST\":\n",
    "        # 获取上传的文件\n",
    "        file = request.files[\"file\"]\n",
    "        # 将文件读取为DataFrame\n",
    "        df = pd.read_csv(file)\n",
    "        # 生成HTML表格\n",
    "        html = df.to_html()\n",
    "        # 显示表格\n",
    "        return render_template('table.html', table_html=html)\n",
    "    else:\n",
    "        return '''\n",
    "        <!doctype html>\n",
    "        <html>\n",
    "        <body>\n",
    "            <h1>Upload a CSV file</h1>\n",
    "            <form method=\"post\" enctype=\"multipart/form-data\">\n",
    "                <input type=\"file\" name=\"file\">\n",
    "                <input type=\"submit\" value=\"Upload\">\n",
    "            </form>\n",
    "        </body>\n",
    "        </html>\n",
    "        '''\n",
    "\n",
    "if __name__ == \"__main__\":\n",
    "    app.run(host=\"192.168.1.4\", port=5000)"
   ]
  },
  {
   "cell_type": "markdown",
   "id": "ce5cc68e",
   "metadata": {},
   "source": [
    "## 在表格上方增加散点图"
   ]
  },
  {
   "cell_type": "code",
   "execution_count": 30,
   "id": "8f79de98",
   "metadata": {},
   "outputs": [
    {
     "name": "stdout",
     "output_type": "stream",
     "text": [
      " * Serving Flask app \"__main__\" (lazy loading)\n",
      " * Environment: production\n",
      "\u001b[31m   WARNING: This is a development server. Do not use it in a production deployment.\u001b[0m\n",
      "\u001b[2m   Use a production WSGI server instead.\u001b[0m\n",
      " * Debug mode: off\n"
     ]
    },
    {
     "name": "stderr",
     "output_type": "stream",
     "text": [
      " * Running on http://192.168.1.4:5000/ (Press CTRL+C to quit)\n",
      "192.168.1.4 - - [06/May/2023 00:48:54] \"GET / HTTP/1.1\" 200 -\n",
      "192.168.1.4 - - [06/May/2023 00:49:01] \"POST / HTTP/1.1\" 200 -\n"
     ]
    },
    {
     "data": {
      "image/png": "[encoded data removed]",
      "text/plain": [
       "<Figure size 432x288 with 1 Axes>"
      ]
     },
     "metadata": {
      "needs_background": "light"
     },
     "output_type": "display_data"
    }
   ],
   "source": [
    "from flask import Flask, request, render_template\n",
    "import pandas as pd\n",
    "import matplotlib.pyplot as plt\n",
    "import io\n",
    "import base64\n",
    "\n",
    "#app = Flask(__name__)\n",
    "app = Flask(__name__, template_folder='templates')\n",
    "\n",
    "@app.route(\"/\", methods=[\"GET\", \"POST\"])\n",
    "def upload_csv():\n",
    "    if request.method == \"POST\":\n",
    "        # 获取上传的文件\n",
    "        file = request.files[\"file\"]\n",
    "        # 将文件读取为DataFrame\n",
    "        df = pd.read_csv(file)\n",
    "        # 绘制散点图\n",
    "        fig, ax = plt.subplots()\n",
    "        ax.scatter(df.iloc[:, 11], df.iloc[:, 3])\n",
    "        # 将图表保存为PNG文件\n",
    "        file_path = os.path.join(app.root_path, \"image\", \"scatter.png\")\n",
    "        plt.savefig(file_path, format='png')\n",
    "        # 将图表保存为二进制流\n",
    "        buffer = io.BytesIO()\n",
    "        plt.savefig(buffer, format='png')\n",
    "        buffer.seek(0)\n",
    "        # 将二进制流转换为base64编码字符串\n",
    "        image_string = base64.b64encode(buffer.read()).decode()\n",
    "        # 生成HTML，显示散点图\n",
    "        html = '<img src=\"data:image/png;base64,{0}\">'.format(image_string)\n",
    "        # 生成HTML表格\n",
    "        table_html = df.to_html()\n",
    "        # 显示散点图和表格\n",
    "        return render_template('chart_table.html', chart_html=html, table_html=table_html)\n",
    "    else:\n",
    "        return '''\n",
    "        <!doctype html>\n",
    "        <html>\n",
    "        <body>\n",
    "            <h1>Upload a CSV file</h1>\n",
    "            <form method=\"post\" enctype=\"multipart/form-data\">\n",
    "                <input type=\"file\" name=\"file\">\n",
    "                <input type=\"submit\" value=\"Upload\">\n",
    "            </form>\n",
    "        </body>\n",
    "        </html>\n",
    "        '''\n",
    "\n",
    "if __name__ == \"__main__\":\n",
    "    app.run(host=\"192.168.1.4\", port=5000)\n"
   ]
  },
  {
   "cell_type": "code",
   "execution_count": 29,
   "id": "fd75f6ea",
   "metadata": {},
   "outputs": [
    {
     "name": "stdout",
     "output_type": "stream",
     "text": [
      " * Serving Flask app \"__main__\" (lazy loading)\n",
      " * Environment: production\n",
      "\u001b[31m   WARNING: This is a development server. Do not use it in a production deployment.\u001b[0m\n",
      "\u001b[2m   Use a production WSGI server instead.\u001b[0m\n",
      " * Debug mode: off\n"
     ]
    },
    {
     "name": "stderr",
     "output_type": "stream",
     "text": [
      " * Running on http://192.168.1.4:5000/ (Press CTRL+C to quit)\n",
      "192.168.1.4 - - [06/May/2023 00:45:31] \"GET / HTTP/1.1\" 200 -\n",
      "192.168.1.4 - - [06/May/2023 00:45:37] \"POST / HTTP/1.1\" 400 -\n",
      "192.168.1.4 - - [06/May/2023 00:45:46] \"GET / HTTP/1.1\" 200 -\n",
      "192.168.1.4 - - [06/May/2023 00:45:53] \"POST / HTTP/1.1\" 400 -\n"
     ]
    }
   ],
   "source": [
    "from flask import Flask, request, render_template\n",
    "import pandas as pd\n",
    "import matplotlib.pyplot as plt\n",
    "import io\n",
    "import base64\n",
    "import os\n",
    "\n",
    "#app = Flask(__name__)\n",
    "app = Flask(__name__, template_folder='templates')\n",
    "\n",
    "@app.route(\"/\", methods=[\"GET\", \"POST\"])\n",
    "def upload_csv():\n",
    "    if request.method == \"POST\":\n",
    "        # 获取上传的文件\n",
    "        file = request.files[\"file\"]\n",
    "        # 将文件读取为DataFrame\n",
    "        df = pd.read_csv(file)\n",
    "        # 获取用户输入的x轴对应的列名\n",
    "        x_col = request.form[\"x_col\"]\n",
    "        if x_col == \"\":\n",
    "            x_col = 11\n",
    "        # 绘制散点图\n",
    "        fig, ax = plt.subplots()\n",
    "        ax.scatter(df[x_col], df.iloc[:, 3])\n",
    "        # 将图表保存为PNG文件\n",
    "        file_path = os.path.join(app.root_path, \"image\", \"scatter.png\")\n",
    "        plt.savefig(file_path, format='png')\n",
    "        # 将图表保存为二进制流\n",
    "        buffer = io.BytesIO()\n",
    "        plt.savefig(buffer, format='png')\n",
    "        buffer.seek(0)\n",
    "        # 将二进制流转换为base64编码字符串\n",
    "        image_string = base64.b64encode(buffer.read()).decode()\n",
    "        # 生成HTML，显示散点图和输入框\n",
    "        html = f'''\n",
    "            <img src=\"data:image/png;base64,{image_string}\">\n",
    "            <form method=\"post\" enctype=\"multipart/form-data\">\n",
    "                <label for=\"x_col\">x轴列名：</label>\n",
    "                <input type=\"text\" id=\"x_col\" name=\"x_col\">\n",
    "                <input type=\"submit\" value=\"重新绘制散点图\">\n",
    "            </form>\n",
    "        '''\n",
    "        # 生成HTML表格\n",
    "        table_html = df.to_html()\n",
    "        # 显示散点图和表格\n",
    "        return render_template('chart_table.html', chart_html=html, table_html=table_html)\n",
    "    else:\n",
    "        return '''\n",
    "        <!doctype html>\n",
    "        <html>\n",
    "        <body>\n",
    "            <h1>Upload a CSV file</h1>\n",
    "            <form method=\"post\" enctype=\"multipart/form-data\">\n",
    "                <input type=\"file\" name=\"file\">\n",
    "                <input type=\"submit\" value=\"Upload\">\n",
    "            </form>\n",
    "        </body>\n",
    "        </html>\n",
    "        '''\n",
    "\n",
    "if __name__ == \"__main__\":\n",
    "    app.run(host=\"192.168.1.4\", port=5000)\n"
   ]
  },
  {
   "cell_type": "code",
   "execution_count": null,
   "id": "c9133261",
   "metadata": {},
   "outputs": [],
   "source": []
  }
 ],
 "metadata": {
  "kernelspec": {
   "display_name": "Python 3 (ipykernel)",
   "language": "python",
   "name": "python3"
  },
  "language_info": {
   "codemirror_mode": {
    "name": "ipython",
    "version": 3
   },
   "file_extension": ".py",
   "mimetype": "text/x-python",
   "name": "python",
   "nbconvert_exporter": "python",
   "pygments_lexer": "ipython3",
   "version": "3.9.12"
  }
 },
 "nbformat": 4,
 "nbformat_minor": 5
}
